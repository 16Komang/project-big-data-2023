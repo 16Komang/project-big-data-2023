{
 "cells": [
  {
   "cell_type": "code",
   "execution_count": 2,
   "metadata": {},
   "outputs": [
    {
     "name": "stdout",
     "output_type": "stream",
     "text": [
      "   Tahun  \\\n",
      "0   1990   \n",
      "1   1991   \n",
      "2   1992   \n",
      "3   1993   \n",
      "4   1994   \n",
      "\n",
      "   Deaths - Cause: All causes - Risk: Household air pollution from solid fuels - Sex: Both - Age: Age-standardized (Rate)  \\\n",
      "0                                         125.715579                                                                        \n",
      "1                                         120.029598                                                                        \n",
      "2                                         114.813527                                                                        \n",
      "3                                         110.098325                                                                        \n",
      "4                                         105.567070                                                                        \n",
      "\n",
      "   Deaths - Cause: All causes - Risk: Ambient particulate matter pollution - Sex: Both - Age: Age-standardized (Rate)  \\\n",
      "0                                          37.313501                                                                    \n",
      "1                                          38.968971                                                                    \n",
      "2                                          40.539534                                                                    \n",
      "3                                          41.984926                                                                    \n",
      "4                                          43.074386                                                                    \n",
      "\n",
      "   Deaths - Cause: All causes - Risk: Air pollution - Sex: Both - Age: Age-standardized (Rate)  \\\n",
      "0                                         163.323136                                             \n",
      "1                                         159.293964                                             \n",
      "2                                         155.612163                                             \n",
      "3                                         152.489308                                             \n",
      "4                                         149.043526                                             \n",
      "\n",
      "   Deaths - Cause: All causes - Risk: Ambient ozone pollution - Sex: Both - Age: Age-standardized (Rate)  \n",
      "0                                           0.560691                                                      \n",
      "1                                           0.609826                                                      \n",
      "2                                           0.629601                                                      \n",
      "3                                           0.938119                                                      \n",
      "4                                           0.879339                                                      \n"
     ]
    }
   ],
   "source": [
    "import pandas as pd\n",
    "#EXTRACT\n",
    "\n",
    "# membaca file csv\n",
    "df = pd.read_csv('death-rates-from-air-pollution.csv')\n",
    "\n",
    "#TRANSFORM\n",
    "# mengambil data hanya untuk daerah Indonesia\n",
    "df = df[df['Entity'] == 'Indonesia']\n",
    "\n",
    "# menghapus kolom-kolom yang tidak dibutuhkan\n",
    "df = df.drop(['Code', 'Entity'], axis=1)\n",
    "\n",
    "# mengganti nama kolom\n",
    "df = df.rename(columns={'Year': 'Tahun', 'Air pollution (total) (deaths per 100,000)': 'Jumlah Kematian'})\n",
    "\n",
    "# mengurutkan data berdasarkan tahun secara ascending\n",
    "df = df.sort_values('Tahun')\n",
    "\n",
    "# mengatur ulang indeks data setelah diurutkan\n",
    "df = df.reset_index(drop=True)\n",
    "\n",
    "# menampilkan lima data pertama\n",
    "print(df.head())"
   ]
  }
 ],
 "metadata": {
  "kernelspec": {
   "display_name": "base",
   "language": "python",
   "name": "python3"
  },
  "language_info": {
   "codemirror_mode": {
    "name": "ipython",
    "version": 3
   },
   "file_extension": ".py",
   "mimetype": "text/x-python",
   "name": "python",
   "nbconvert_exporter": "python",
   "pygments_lexer": "ipython3",
   "version": "3.8.8"
  },
  "orig_nbformat": 4
 },
 "nbformat": 4,
 "nbformat_minor": 2
}
